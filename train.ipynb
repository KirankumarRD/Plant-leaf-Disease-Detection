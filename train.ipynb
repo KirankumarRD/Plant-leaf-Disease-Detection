{
 "cells": [
  {
   "cell_type": "code",
   "execution_count": 9,
   "id": "656c3224-2003-41ef-8fa0-72cd41521361",
   "metadata": {},
   "outputs": [],
   "source": [
    "## Importing Libraries"
   ]
  },
  {
   "cell_type": "code",
   "execution_count": 1,
   "id": "066439f0-d9a0-4a7f-83c4-00cb21b60940",
   "metadata": {},
   "outputs": [
    {
     "name": "stdout",
     "output_type": "stream",
     "text": [
      "Found 6912 files belonging to 15 classes.\n"
     ]
    }
   ],
   "source": [
    "import matplotlib.pyplot as plt\n",
    "import pandas as pd\n",
    "import seaborn as sns\n",
    "import tensorflow as tf \n",
    "validation_set = tf.keras.utils.image_dataset_from_directory(\n",
    "    'New Plant Diseases Dataset(Augmented)/New Plant Diseases Dataset(Augmented)/valid',\n",
    "    labels=\"inferred\",\n",
    "    label_mode=\"categorical\",\n",
    "    class_names=None,\n",
    "    color_mode=\"rgb\",\n",
    "    batch_size=32,\n",
    "    image_size=(128, 128),\n",
    "    shuffle=True,\n",
    "    seed=None,\n",
    "    validation_split=None,\n",
    "    subset=None,\n",
    "    interpolation=\"bilinear\",\n",
    "    follow_links=False,\n",
    "    crop_to_aspect_ratio=False,\n",
    "    pad_to_aspect_ratio=False,\n",
    "    verbose=True,\n",
    ")"
   ]
  },
  {
   "cell_type": "code",
   "execution_count": 20,
   "id": "473007f2-8295-4fb1-a2b1-8f2cc566491e",
   "metadata": {},
   "outputs": [
    {
     "name": "stdout",
     "output_type": "stream",
     "text": [
      "Found 27647 files belonging to 15 classes.\n"
     ]
    }
   ],
   "source": [
    "import matplotlib.pyplot as plt\n",
    "import pandas as pd\n",
    "import seaborn as sns\n",
    "import tensorflow as tf  # Import TensorFlow here\n",
    "\n",
    "training_set = tf.keras.utils.image_dataset_from_directory(\n",
    "    'New Plant Diseases Dataset(Augmented)/New Plant Diseases Dataset(Augmented)/train',\n",
    "    labels=\"inferred\",\n",
    "    label_mode=\"categorical\",\n",
    "    class_names=None,\n",
    "    color_mode=\"rgb\",\n",
    "    batch_size=32,\n",
    "    image_size=(128, 128),\n",
    "    shuffle=True,\n",
    "    seed=None,\n",
    "    validation_split=None,\n",
    "    subset=None,\n",
    "    interpolation=\"bilinear\",\n",
    "    follow_links=False,\n",
    "    crop_to_aspect_ratio=False,\n",
    "    pad_to_aspect_ratio=False,\n",
    "    verbose=True,\n",
    ")"
   ]
  },
  {
   "cell_type": "code",
   "execution_count": 21,
   "id": "70f48712-cf36-4cd5-9ef2-a24e6feff0b3",
   "metadata": {},
   "outputs": [
    {
     "name": "stdout",
     "output_type": "stream",
     "text": [
      "tf.Tensor(\n",
      "[[[[129.   114.   119.  ]\n",
      "   [121.   106.   111.  ]\n",
      "   [130.5  113.5  119.5 ]\n",
      "   ...\n",
      "   [ 95.25  80.25  87.25]\n",
      "   [ 91.5   76.5   83.5 ]\n",
      "   [104.    89.    96.  ]]\n",
      "\n",
      "  [[131.   116.   121.  ]\n",
      "   [127.5  112.5  117.5 ]\n",
      "   [134.   117.   123.  ]\n",
      "   ...\n",
      "   [ 99.75  84.75  91.75]\n",
      "   [111.25  96.25 103.25]\n",
      "   [109.25  94.25 101.25]]\n",
      "\n",
      "  [[124.5  109.5  114.5 ]\n",
      "   [127.25 112.25 117.25]\n",
      "   [127.75 110.75 116.75]\n",
      "   ...\n",
      "   [107.25  92.25  99.25]\n",
      "   [ 93.    78.    85.  ]\n",
      "   [ 93.75  78.75  85.75]]\n",
      "\n",
      "  ...\n",
      "\n",
      "  [[181.75 170.75 176.75]\n",
      "   [194.75 183.75 189.75]\n",
      "   [182.5  171.5  177.5 ]\n",
      "   ...\n",
      "   [124.   113.   121.  ]\n",
      "   [156.5  145.5  153.5 ]\n",
      "   [108.5   97.5  105.5 ]]\n",
      "\n",
      "  [[183.25 172.25 178.25]\n",
      "   [191.75 180.75 186.75]\n",
      "   [182.5  171.5  177.5 ]\n",
      "   ...\n",
      "   [115.5  104.5  112.5 ]\n",
      "   [116.75 105.75 113.75]\n",
      "   [132.   121.   129.  ]]\n",
      "\n",
      "  [[182.   171.   177.  ]\n",
      "   [183.   172.   178.  ]\n",
      "   [174.25 163.25 169.25]\n",
      "   ...\n",
      "   [135.5  124.5  132.5 ]\n",
      "   [130.5  119.5  127.5 ]\n",
      "   [127.75 116.75 124.75]]]\n",
      "\n",
      "\n",
      " [[[120.5  108.5  122.5 ]\n",
      "   [128.   116.   130.  ]\n",
      "   [130.25 118.25 132.25]\n",
      "   ...\n",
      "   [100.5   86.5  101.5 ]\n",
      "   [110.75  96.75 111.75]\n",
      "   [105.75  91.75 106.75]]\n",
      "\n",
      "  [[132.5  120.5  134.5 ]\n",
      "   [121.   109.   123.  ]\n",
      "   [128.25 116.25 130.25]\n",
      "   ...\n",
      "   [106.75  92.75 107.75]\n",
      "   [106.25  92.25 107.25]\n",
      "   [107.75  93.75 108.75]]\n",
      "\n",
      "  [[124.5  112.5  126.5 ]\n",
      "   [124.25 112.25 126.25]\n",
      "   [134.   122.   136.  ]\n",
      "   ...\n",
      "   [121.5  107.5  122.5 ]\n",
      "   [112.    98.   113.  ]\n",
      "   [104.    90.   105.  ]]\n",
      "\n",
      "  ...\n",
      "\n",
      "  [[134.25 125.25 146.25]\n",
      "   [140.   131.   152.  ]\n",
      "   [127.   118.   139.  ]\n",
      "   ...\n",
      "   [120.   107.   124.  ]\n",
      "   [121.   108.   125.  ]\n",
      "   [125.25 112.25 129.25]]\n",
      "\n",
      "  [[153.25 144.25 165.25]\n",
      "   [136.5  127.5  148.5 ]\n",
      "   [134.25 125.25 146.25]\n",
      "   ...\n",
      "   [108.5   95.5  112.5 ]\n",
      "   [121.5  108.5  125.5 ]\n",
      "   [108.75  95.75 112.75]]\n",
      "\n",
      "  [[134.   125.   146.  ]\n",
      "   [123.25 114.25 135.25]\n",
      "   [126.   117.   138.  ]\n",
      "   ...\n",
      "   [111.5   98.5  115.5 ]\n",
      "   [102.75  89.75 106.75]\n",
      "   [121.5  108.5  125.5 ]]]\n",
      "\n",
      "\n",
      " [[[190.25 189.25 197.25]\n",
      "   [188.   187.   195.  ]\n",
      "   [180.75 179.75 187.75]\n",
      "   ...\n",
      "   [159.75 157.75 170.75]\n",
      "   [158.   156.   169.  ]\n",
      "   [170.25 168.25 181.25]]\n",
      "\n",
      "  [[185.   184.   192.  ]\n",
      "   [183.25 182.25 190.25]\n",
      "   [180.5  179.5  187.5 ]\n",
      "   ...\n",
      "   [157.75 155.75 168.75]\n",
      "   [164.5  162.5  175.5 ]\n",
      "   [164.5  162.5  175.5 ]]\n",
      "\n",
      "  [[178.75 177.75 185.75]\n",
      "   [181.25 180.25 188.25]\n",
      "   [181.75 180.75 188.75]\n",
      "   ...\n",
      "   [160.   158.   171.  ]\n",
      "   [161.5  159.5  172.5 ]\n",
      "   [162.   160.   173.  ]]\n",
      "\n",
      "  ...\n",
      "\n",
      "  [[142.75 139.75 148.75]\n",
      "   [136.   133.   142.  ]\n",
      "   [138.75 135.75 144.75]\n",
      "   ...\n",
      "   [116.   116.   126.  ]\n",
      "   [131.25 131.25 141.25]\n",
      "   [141.   141.   151.  ]]\n",
      "\n",
      "  [[152.5  149.5  158.5 ]\n",
      "   [154.5  151.5  160.5 ]\n",
      "   [138.75 135.75 144.75]\n",
      "   ...\n",
      "   [133.75 136.75 145.75]\n",
      "   [120.   123.   132.  ]\n",
      "   [139.   142.   151.  ]]\n",
      "\n",
      "  [[147.25 144.25 153.25]\n",
      "   [150.75 147.75 156.75]\n",
      "   [131.5  128.5  137.5 ]\n",
      "   ...\n",
      "   [119.5  122.5  131.5 ]\n",
      "   [133.75 136.75 145.75]\n",
      "   [126.5  129.5  138.5 ]]]\n",
      "\n",
      "\n",
      " ...\n",
      "\n",
      "\n",
      " [[[148.5  139.5  144.5 ]\n",
      "   [145.25 136.25 141.25]\n",
      "   [142.75 133.75 138.75]\n",
      "   ...\n",
      "   [118.5  107.5  111.5 ]\n",
      "   [122.25 111.25 115.25]\n",
      "   [121.   110.   114.  ]]\n",
      "\n",
      "  [[146.   137.   142.  ]\n",
      "   [145.75 136.75 141.75]\n",
      "   [147.   138.   143.  ]\n",
      "   ...\n",
      "   [120.5  109.5  113.5 ]\n",
      "   [113.   102.   106.  ]\n",
      "   [126.25 115.25 119.25]]\n",
      "\n",
      "  [[145.   136.   141.  ]\n",
      "   [138.75 129.75 134.75]\n",
      "   [150.   141.   146.  ]\n",
      "   ...\n",
      "   [114.25 103.25 107.25]\n",
      "   [114.   103.   107.  ]\n",
      "   [125.75 114.75 118.75]]\n",
      "\n",
      "  ...\n",
      "\n",
      "  [[165.75 156.75 159.75]\n",
      "   [151.25 142.25 145.25]\n",
      "   [159.25 150.25 153.25]\n",
      "   ...\n",
      "   [142.75 131.75 129.75]\n",
      "   [140.25 129.25 127.25]\n",
      "   [123.   112.   110.  ]]\n",
      "\n",
      "  [[147.75 138.75 141.75]\n",
      "   [159.75 150.75 153.75]\n",
      "   [167.   158.   161.  ]\n",
      "   ...\n",
      "   [126.75 115.75 113.75]\n",
      "   [132.75 121.75 119.75]\n",
      "   [131.75 120.75 118.75]]\n",
      "\n",
      "  [[151.5  142.5  145.5 ]\n",
      "   [157.   148.   151.  ]\n",
      "   [159.75 150.75 153.75]\n",
      "   ...\n",
      "   [130.75 119.75 117.75]\n",
      "   [140.   129.   127.  ]\n",
      "   [132.5  121.5  119.5 ]]]\n",
      "\n",
      "\n",
      " [[[179.75 174.75 178.75]\n",
      "   [176.25 171.25 175.25]\n",
      "   [174.75 169.75 173.75]\n",
      "   ...\n",
      "   [148.25 144.25 145.25]\n",
      "   [117.25 113.25 114.25]\n",
      "   [136.75 132.75 133.75]]\n",
      "\n",
      "  [[183.   178.   182.  ]\n",
      "   [176.75 171.75 175.75]\n",
      "   [178.25 173.25 177.25]\n",
      "   ...\n",
      "   [138.   134.   135.  ]\n",
      "   [141.5  137.5  138.5 ]\n",
      "   [145.5  141.5  142.5 ]]\n",
      "\n",
      "  [[181.5  176.5  180.5 ]\n",
      "   [184.75 179.75 183.75]\n",
      "   [178.75 173.75 177.75]\n",
      "   ...\n",
      "   [123.75 119.75 120.75]\n",
      "   [139.75 135.75 136.75]\n",
      "   [141.75 137.75 138.75]]\n",
      "\n",
      "  ...\n",
      "\n",
      "  [[160.   152.   149.  ]\n",
      "   [155.5  147.5  144.5 ]\n",
      "   [154.75 146.75 143.75]\n",
      "   ...\n",
      "   [128.25 117.25 113.25]\n",
      "   [126.   115.   111.  ]\n",
      "   [130.5  119.5  115.5 ]]\n",
      "\n",
      "  [[153.25 145.25 142.25]\n",
      "   [152.25 144.25 141.25]\n",
      "   [154.5  146.5  143.5 ]\n",
      "   ...\n",
      "   [119.75 108.75 104.75]\n",
      "   [127.25 116.25 112.25]\n",
      "   [121.5  110.5  106.5 ]]\n",
      "\n",
      "  [[154.   146.   143.  ]\n",
      "   [153.25 145.25 142.25]\n",
      "   [153.25 145.25 142.25]\n",
      "   ...\n",
      "   [123.75 112.75 108.75]\n",
      "   [141.25 130.25 126.25]\n",
      "   [116.   105.   101.  ]]]\n",
      "\n",
      "\n",
      " [[[103.25 102.25 107.25]\n",
      "   [ 88.75  87.75  92.75]\n",
      "   [100.75  99.75 104.75]\n",
      "   ...\n",
      "   [ 75.75  74.75  70.75]\n",
      "   [ 70.75  69.75  65.75]\n",
      "   [ 68.25  67.25  63.25]]\n",
      "\n",
      "  [[ 99.25  98.25 103.25]\n",
      "   [ 94.75  93.75  98.75]\n",
      "   [ 89.75  88.75  93.75]\n",
      "   ...\n",
      "   [ 76.25  75.25  71.25]\n",
      "   [ 76.    75.    71.  ]\n",
      "   [ 76.75  75.75  71.75]]\n",
      "\n",
      "  [[ 95.75  94.75  99.75]\n",
      "   [ 97.    96.   101.  ]\n",
      "   [ 98.75  97.75 102.75]\n",
      "   ...\n",
      "   [ 80.5   79.5   75.5 ]\n",
      "   [ 79.    78.    74.  ]\n",
      "   [ 79.5   78.5   74.5 ]]\n",
      "\n",
      "  ...\n",
      "\n",
      "  [[143.5  143.5  133.5 ]\n",
      "   [143.75 143.75 133.75]\n",
      "   [142.25 142.25 132.25]\n",
      "   ...\n",
      "   [128.5  128.5  120.5 ]\n",
      "   [125.25 125.25 117.25]\n",
      "   [122.5  122.5  114.5 ]]\n",
      "\n",
      "  [[139.75 139.75 129.75]\n",
      "   [141.   141.   131.  ]\n",
      "   [141.   141.   131.  ]\n",
      "   ...\n",
      "   [126.75 126.75 118.75]\n",
      "   [123.5  123.5  115.5 ]\n",
      "   [122.75 122.75 114.75]]\n",
      "\n",
      "  [[138.   138.   128.  ]\n",
      "   [140.   140.   130.  ]\n",
      "   [141.5  141.5  131.5 ]\n",
      "   ...\n",
      "   [124.   124.   116.  ]\n",
      "   [124.25 124.25 116.25]\n",
      "   [123.5  123.5  115.5 ]]]], shape=(32, 128, 128, 3), dtype=float32) (32, 128, 128, 3)\n",
      "tf.Tensor(\n",
      "[[0. 0. 0. 0. 0. 0. 1. 0. 0. 0. 0. 0. 0. 0. 0.]\n",
      " [0. 0. 0. 0. 0. 0. 0. 0. 0. 0. 0. 0. 0. 1. 0.]\n",
      " [1. 0. 0. 0. 0. 0. 0. 0. 0. 0. 0. 0. 0. 0. 0.]\n",
      " [0. 0. 0. 0. 0. 0. 0. 0. 0. 0. 0. 0. 0. 0. 1.]\n",
      " [0. 0. 0. 0. 0. 0. 0. 1. 0. 0. 0. 0. 0. 0. 0.]\n",
      " [0. 0. 1. 0. 0. 0. 0. 0. 0. 0. 0. 0. 0. 0. 0.]\n",
      " [0. 0. 0. 0. 0. 0. 0. 0. 0. 0. 0. 0. 0. 1. 0.]\n",
      " [0. 0. 0. 0. 0. 0. 0. 0. 0. 0. 0. 1. 0. 0. 0.]\n",
      " [0. 0. 0. 1. 0. 0. 0. 0. 0. 0. 0. 0. 0. 0. 0.]\n",
      " [0. 0. 0. 1. 0. 0. 0. 0. 0. 0. 0. 0. 0. 0. 0.]\n",
      " [0. 0. 0. 0. 0. 0. 0. 0. 0. 0. 0. 0. 0. 1. 0.]\n",
      " [1. 0. 0. 0. 0. 0. 0. 0. 0. 0. 0. 0. 0. 0. 0.]\n",
      " [0. 0. 0. 0. 0. 0. 0. 0. 0. 1. 0. 0. 0. 0. 0.]\n",
      " [0. 0. 0. 0. 0. 0. 0. 0. 0. 0. 0. 0. 1. 0. 0.]\n",
      " [0. 0. 0. 0. 0. 0. 0. 0. 0. 1. 0. 0. 0. 0. 0.]\n",
      " [0. 1. 0. 0. 0. 0. 0. 0. 0. 0. 0. 0. 0. 0. 0.]\n",
      " [0. 1. 0. 0. 0. 0. 0. 0. 0. 0. 0. 0. 0. 0. 0.]\n",
      " [0. 0. 0. 0. 0. 0. 0. 0. 0. 1. 0. 0. 0. 0. 0.]\n",
      " [0. 0. 0. 0. 0. 0. 0. 0. 0. 0. 1. 0. 0. 0. 0.]\n",
      " [0. 0. 0. 0. 0. 0. 0. 0. 1. 0. 0. 0. 0. 0. 0.]\n",
      " [0. 0. 0. 0. 0. 0. 0. 0. 0. 0. 0. 0. 0. 0. 1.]\n",
      " [0. 1. 0. 0. 0. 0. 0. 0. 0. 0. 0. 0. 0. 0. 0.]\n",
      " [0. 0. 0. 0. 0. 0. 0. 0. 0. 0. 1. 0. 0. 0. 0.]\n",
      " [0. 1. 0. 0. 0. 0. 0. 0. 0. 0. 0. 0. 0. 0. 0.]\n",
      " [0. 0. 0. 0. 0. 0. 1. 0. 0. 0. 0. 0. 0. 0. 0.]\n",
      " [0. 0. 0. 0. 0. 0. 0. 0. 0. 1. 0. 0. 0. 0. 0.]\n",
      " [0. 0. 0. 0. 0. 0. 0. 0. 0. 1. 0. 0. 0. 0. 0.]\n",
      " [0. 0. 0. 0. 0. 1. 0. 0. 0. 0. 0. 0. 0. 0. 0.]\n",
      " [0. 0. 0. 0. 0. 1. 0. 0. 0. 0. 0. 0. 0. 0. 0.]\n",
      " [0. 0. 0. 0. 0. 0. 1. 0. 0. 0. 0. 0. 0. 0. 0.]\n",
      " [0. 0. 0. 0. 0. 0. 1. 0. 0. 0. 0. 0. 0. 0. 0.]\n",
      " [0. 0. 0. 0. 0. 0. 0. 0. 0. 0. 0. 0. 1. 0. 0.]], shape=(32, 15), dtype=float32) (32, 15)\n"
     ]
    }
   ],
   "source": [
    "for x,y in training_set:\n",
    "    print(x,x.shape)\n",
    "    print(y,y.shape)\n",
    "    break                                  #pixels of each image"
   ]
  },
  {
   "cell_type": "code",
   "execution_count": 22,
   "id": "60eba723-eac5-4277-99b3-bc9b240f2b9f",
   "metadata": {},
   "outputs": [],
   "source": [
    "### to avoid overshooting\n",
    "#1. choose small learning rate default is 0.001 we are taking 0.0001\n",
    "#2. there may be chance of underfitting , so increase number of neuron (means unable to capture entire info of data set) \n",
    "#3. Add more convolution layer to extract more feature from images there may be possibility that model unable to capture relevant feature or lack of feature so feed with more feature"
   ]
  },
  {
   "cell_type": "code",
   "execution_count": 23,
   "id": "2afc7753-5110-420d-a75e-9fb51061b916",
   "metadata": {},
   "outputs": [],
   "source": [
    "## Building Model\n",
    "from tensorflow.keras.layers import Dense,Conv2D,MaxPool2D,Flatten,Dropout,Input\n",
    "from tensorflow.keras.models import Sequential"
   ]
  },
  {
   "cell_type": "code",
   "execution_count": 24,
   "id": "1e3e5ad3-1a82-4620-adf6-05bfef00ff97",
   "metadata": {},
   "outputs": [],
   "source": [
    "input_layer = Input(shape=[128, 128, 3])\n",
    "model = Sequential()\n",
    "model.add(input_layer)"
   ]
  },
  {
   "cell_type": "code",
   "execution_count": 25,
   "id": "e138d056-781f-411a-8803-4cc9acfe597f",
   "metadata": {},
   "outputs": [],
   "source": [
    "\n",
    "# Convolutional layers with ReLU activation and MaxPooling\n",
    "model.add(Conv2D(filters=32, kernel_size=3, padding='same', activation='relu'))  # Removed input_shape\n",
    "model.add(Conv2D(filters=32, kernel_size=3, activation='relu'))  # Removed input_shape\n",
    "model.add(MaxPool2D(pool_size=2, strides=2))"
   ]
  },
  {
   "cell_type": "code",
   "execution_count": 26,
   "id": "d8f57c9e-b96a-4807-a94a-ca2f1b87845a",
   "metadata": {},
   "outputs": [],
   "source": [
    "model.add(Conv2D(filters=64,kernel_size=3,padding='same',activation='relu',input_shape=[128,128,3]))\n",
    "model.add(Conv2D(filters=64,kernel_size=3,activation='relu'))\n",
    "model.add(MaxPool2D(pool_size=2,strides=2))"
   ]
  },
  {
   "cell_type": "code",
   "execution_count": 27,
   "id": "f087c12e-25d0-40f5-a131-c1fa42cac532",
   "metadata": {},
   "outputs": [],
   "source": [
    "model.add(Conv2D(filters=128,kernel_size=3,padding='same',activation='relu',input_shape=[128,128,3]))\n",
    "model.add(Conv2D(filters=128,kernel_size=3,activation='relu'))\n",
    "model.add(MaxPool2D(pool_size=2,strides=2))"
   ]
  },
  {
   "cell_type": "code",
   "execution_count": 28,
   "id": "43b8333d-7554-4d4c-b72f-b1ce2a148789",
   "metadata": {},
   "outputs": [],
   "source": [
    "model.add(Conv2D(filters=256,kernel_size=3,padding='same',activation='relu',input_shape=[128,128,3]))\n",
    "model.add(Conv2D(filters=256,kernel_size=3,activation='relu'))\n",
    "model.add(MaxPool2D(pool_size=2,strides=2))"
   ]
  },
  {
   "cell_type": "code",
   "execution_count": 29,
   "id": "c9075652-cf57-4b98-ba63-66b2cee3ec27",
   "metadata": {},
   "outputs": [],
   "source": [
    "model.add(Conv2D(filters=512,kernel_size=3,padding='same',activation='relu',input_shape=[128,128,3]))\n",
    "model.add(Conv2D(filters=512,kernel_size=3,activation='relu'))\n",
    "model.add(MaxPool2D(pool_size=2,strides=2))"
   ]
  },
  {
   "cell_type": "code",
   "execution_count": 30,
   "id": "4be4ad78-9860-48ca-8d55-6b7a88c58868",
   "metadata": {},
   "outputs": [],
   "source": [
    "model.add(Dropout(0.25))                             #to avoid the problem of over fitting"
   ]
  },
  {
   "cell_type": "code",
   "execution_count": 31,
   "id": "20d675ba-e775-4421-8cdc-d32c81b1ac07",
   "metadata": {},
   "outputs": [],
   "source": [
    "##flattening operation: 2D to 1D \n",
    "model.add(Flatten())"
   ]
  },
  {
   "cell_type": "code",
   "execution_count": 32,
   "id": "87b72296-065f-416f-8ba1-069929172e6d",
   "metadata": {},
   "outputs": [],
   "source": [
    "model.add(Dense(units=1500,activation='relu'))"
   ]
  },
  {
   "cell_type": "code",
   "execution_count": 33,
   "id": "65657c3e-52ed-4231-88c7-4ae1a4c971de",
   "metadata": {},
   "outputs": [],
   "source": [
    "model.add(Dropout(0.4))"
   ]
  },
  {
   "cell_type": "code",
   "execution_count": 34,
   "id": "30ce468d-7d84-41db-8728-6bb6888df655",
   "metadata": {},
   "outputs": [],
   "source": [
    "#Output Layer\n",
    "model.add(Dense(units=15,activation='softmax'))"
   ]
  },
  {
   "cell_type": "code",
   "execution_count": 35,
   "id": "4196888a-e11c-4b20-a01c-3035fed4bac4",
   "metadata": {},
   "outputs": [],
   "source": [
    "## compiling model               extracted features in summary\n",
    "model.compile(optimizer=tf.keras.optimizers.Adam(\n",
    "    learning_rate=0.0001),loss='categorical_crossentropy',metrics=['accuracy'])"
   ]
  },
  {
   "cell_type": "code",
   "execution_count": 36,
   "id": "3bd07b81-f5fa-4992-be27-ac22b15d93d4",
   "metadata": {},
   "outputs": [
    {
     "data": {
      "text/html": [
       "<pre style=\"white-space:pre;overflow-x:auto;line-height:normal;font-family:Menlo,'DejaVu Sans Mono',consolas,'Courier New',monospace\"><span style=\"font-weight: bold\">Model: \"sequential_1\"</span>\n",
       "</pre>\n"
      ],
      "text/plain": [
       "\u001b[1mModel: \"sequential_1\"\u001b[0m\n"
      ]
     },
     "metadata": {},
     "output_type": "display_data"
    },
    {
     "data": {
      "text/html": [
       "<pre style=\"white-space:pre;overflow-x:auto;line-height:normal;font-family:Menlo,'DejaVu Sans Mono',consolas,'Courier New',monospace\">┏━━━━━━━━━━━━━━━━━━━━━━━━━━━━━━━━━┳━━━━━━━━━━━━━━━━━━━━━━━━┳━━━━━━━━━━━━━━━┓\n",
       "┃<span style=\"font-weight: bold\"> Layer (type)                    </span>┃<span style=\"font-weight: bold\"> Output Shape           </span>┃<span style=\"font-weight: bold\">       Param # </span>┃\n",
       "┡━━━━━━━━━━━━━━━━━━━━━━━━━━━━━━━━━╇━━━━━━━━━━━━━━━━━━━━━━━━╇━━━━━━━━━━━━━━━┩\n",
       "│ conv2d_10 (<span style=\"color: #0087ff; text-decoration-color: #0087ff\">Conv2D</span>)              │ (<span style=\"color: #00d7ff; text-decoration-color: #00d7ff\">None</span>, <span style=\"color: #00af00; text-decoration-color: #00af00\">128</span>, <span style=\"color: #00af00; text-decoration-color: #00af00\">128</span>, <span style=\"color: #00af00; text-decoration-color: #00af00\">32</span>)   │           <span style=\"color: #00af00; text-decoration-color: #00af00\">896</span> │\n",
       "├─────────────────────────────────┼────────────────────────┼───────────────┤\n",
       "│ conv2d_11 (<span style=\"color: #0087ff; text-decoration-color: #0087ff\">Conv2D</span>)              │ (<span style=\"color: #00d7ff; text-decoration-color: #00d7ff\">None</span>, <span style=\"color: #00af00; text-decoration-color: #00af00\">126</span>, <span style=\"color: #00af00; text-decoration-color: #00af00\">126</span>, <span style=\"color: #00af00; text-decoration-color: #00af00\">32</span>)   │         <span style=\"color: #00af00; text-decoration-color: #00af00\">9,248</span> │\n",
       "├─────────────────────────────────┼────────────────────────┼───────────────┤\n",
       "│ max_pooling2d_5 (<span style=\"color: #0087ff; text-decoration-color: #0087ff\">MaxPooling2D</span>)  │ (<span style=\"color: #00d7ff; text-decoration-color: #00d7ff\">None</span>, <span style=\"color: #00af00; text-decoration-color: #00af00\">63</span>, <span style=\"color: #00af00; text-decoration-color: #00af00\">63</span>, <span style=\"color: #00af00; text-decoration-color: #00af00\">32</span>)     │             <span style=\"color: #00af00; text-decoration-color: #00af00\">0</span> │\n",
       "├─────────────────────────────────┼────────────────────────┼───────────────┤\n",
       "│ conv2d_12 (<span style=\"color: #0087ff; text-decoration-color: #0087ff\">Conv2D</span>)              │ (<span style=\"color: #00d7ff; text-decoration-color: #00d7ff\">None</span>, <span style=\"color: #00af00; text-decoration-color: #00af00\">63</span>, <span style=\"color: #00af00; text-decoration-color: #00af00\">63</span>, <span style=\"color: #00af00; text-decoration-color: #00af00\">64</span>)     │        <span style=\"color: #00af00; text-decoration-color: #00af00\">18,496</span> │\n",
       "├─────────────────────────────────┼────────────────────────┼───────────────┤\n",
       "│ conv2d_13 (<span style=\"color: #0087ff; text-decoration-color: #0087ff\">Conv2D</span>)              │ (<span style=\"color: #00d7ff; text-decoration-color: #00d7ff\">None</span>, <span style=\"color: #00af00; text-decoration-color: #00af00\">61</span>, <span style=\"color: #00af00; text-decoration-color: #00af00\">61</span>, <span style=\"color: #00af00; text-decoration-color: #00af00\">64</span>)     │        <span style=\"color: #00af00; text-decoration-color: #00af00\">36,928</span> │\n",
       "├─────────────────────────────────┼────────────────────────┼───────────────┤\n",
       "│ max_pooling2d_6 (<span style=\"color: #0087ff; text-decoration-color: #0087ff\">MaxPooling2D</span>)  │ (<span style=\"color: #00d7ff; text-decoration-color: #00d7ff\">None</span>, <span style=\"color: #00af00; text-decoration-color: #00af00\">30</span>, <span style=\"color: #00af00; text-decoration-color: #00af00\">30</span>, <span style=\"color: #00af00; text-decoration-color: #00af00\">64</span>)     │             <span style=\"color: #00af00; text-decoration-color: #00af00\">0</span> │\n",
       "├─────────────────────────────────┼────────────────────────┼───────────────┤\n",
       "│ conv2d_14 (<span style=\"color: #0087ff; text-decoration-color: #0087ff\">Conv2D</span>)              │ (<span style=\"color: #00d7ff; text-decoration-color: #00d7ff\">None</span>, <span style=\"color: #00af00; text-decoration-color: #00af00\">30</span>, <span style=\"color: #00af00; text-decoration-color: #00af00\">30</span>, <span style=\"color: #00af00; text-decoration-color: #00af00\">128</span>)    │        <span style=\"color: #00af00; text-decoration-color: #00af00\">73,856</span> │\n",
       "├─────────────────────────────────┼────────────────────────┼───────────────┤\n",
       "│ conv2d_15 (<span style=\"color: #0087ff; text-decoration-color: #0087ff\">Conv2D</span>)              │ (<span style=\"color: #00d7ff; text-decoration-color: #00d7ff\">None</span>, <span style=\"color: #00af00; text-decoration-color: #00af00\">28</span>, <span style=\"color: #00af00; text-decoration-color: #00af00\">28</span>, <span style=\"color: #00af00; text-decoration-color: #00af00\">128</span>)    │       <span style=\"color: #00af00; text-decoration-color: #00af00\">147,584</span> │\n",
       "├─────────────────────────────────┼────────────────────────┼───────────────┤\n",
       "│ max_pooling2d_7 (<span style=\"color: #0087ff; text-decoration-color: #0087ff\">MaxPooling2D</span>)  │ (<span style=\"color: #00d7ff; text-decoration-color: #00d7ff\">None</span>, <span style=\"color: #00af00; text-decoration-color: #00af00\">14</span>, <span style=\"color: #00af00; text-decoration-color: #00af00\">14</span>, <span style=\"color: #00af00; text-decoration-color: #00af00\">128</span>)    │             <span style=\"color: #00af00; text-decoration-color: #00af00\">0</span> │\n",
       "├─────────────────────────────────┼────────────────────────┼───────────────┤\n",
       "│ conv2d_16 (<span style=\"color: #0087ff; text-decoration-color: #0087ff\">Conv2D</span>)              │ (<span style=\"color: #00d7ff; text-decoration-color: #00d7ff\">None</span>, <span style=\"color: #00af00; text-decoration-color: #00af00\">14</span>, <span style=\"color: #00af00; text-decoration-color: #00af00\">14</span>, <span style=\"color: #00af00; text-decoration-color: #00af00\">256</span>)    │       <span style=\"color: #00af00; text-decoration-color: #00af00\">295,168</span> │\n",
       "├─────────────────────────────────┼────────────────────────┼───────────────┤\n",
       "│ conv2d_17 (<span style=\"color: #0087ff; text-decoration-color: #0087ff\">Conv2D</span>)              │ (<span style=\"color: #00d7ff; text-decoration-color: #00d7ff\">None</span>, <span style=\"color: #00af00; text-decoration-color: #00af00\">12</span>, <span style=\"color: #00af00; text-decoration-color: #00af00\">12</span>, <span style=\"color: #00af00; text-decoration-color: #00af00\">256</span>)    │       <span style=\"color: #00af00; text-decoration-color: #00af00\">590,080</span> │\n",
       "├─────────────────────────────────┼────────────────────────┼───────────────┤\n",
       "│ max_pooling2d_8 (<span style=\"color: #0087ff; text-decoration-color: #0087ff\">MaxPooling2D</span>)  │ (<span style=\"color: #00d7ff; text-decoration-color: #00d7ff\">None</span>, <span style=\"color: #00af00; text-decoration-color: #00af00\">6</span>, <span style=\"color: #00af00; text-decoration-color: #00af00\">6</span>, <span style=\"color: #00af00; text-decoration-color: #00af00\">256</span>)      │             <span style=\"color: #00af00; text-decoration-color: #00af00\">0</span> │\n",
       "├─────────────────────────────────┼────────────────────────┼───────────────┤\n",
       "│ conv2d_18 (<span style=\"color: #0087ff; text-decoration-color: #0087ff\">Conv2D</span>)              │ (<span style=\"color: #00d7ff; text-decoration-color: #00d7ff\">None</span>, <span style=\"color: #00af00; text-decoration-color: #00af00\">6</span>, <span style=\"color: #00af00; text-decoration-color: #00af00\">6</span>, <span style=\"color: #00af00; text-decoration-color: #00af00\">512</span>)      │     <span style=\"color: #00af00; text-decoration-color: #00af00\">1,180,160</span> │\n",
       "├─────────────────────────────────┼────────────────────────┼───────────────┤\n",
       "│ conv2d_19 (<span style=\"color: #0087ff; text-decoration-color: #0087ff\">Conv2D</span>)              │ (<span style=\"color: #00d7ff; text-decoration-color: #00d7ff\">None</span>, <span style=\"color: #00af00; text-decoration-color: #00af00\">4</span>, <span style=\"color: #00af00; text-decoration-color: #00af00\">4</span>, <span style=\"color: #00af00; text-decoration-color: #00af00\">512</span>)      │     <span style=\"color: #00af00; text-decoration-color: #00af00\">2,359,808</span> │\n",
       "├─────────────────────────────────┼────────────────────────┼───────────────┤\n",
       "│ max_pooling2d_9 (<span style=\"color: #0087ff; text-decoration-color: #0087ff\">MaxPooling2D</span>)  │ (<span style=\"color: #00d7ff; text-decoration-color: #00d7ff\">None</span>, <span style=\"color: #00af00; text-decoration-color: #00af00\">2</span>, <span style=\"color: #00af00; text-decoration-color: #00af00\">2</span>, <span style=\"color: #00af00; text-decoration-color: #00af00\">512</span>)      │             <span style=\"color: #00af00; text-decoration-color: #00af00\">0</span> │\n",
       "├─────────────────────────────────┼────────────────────────┼───────────────┤\n",
       "│ dropout_1 (<span style=\"color: #0087ff; text-decoration-color: #0087ff\">Dropout</span>)             │ (<span style=\"color: #00d7ff; text-decoration-color: #00d7ff\">None</span>, <span style=\"color: #00af00; text-decoration-color: #00af00\">2</span>, <span style=\"color: #00af00; text-decoration-color: #00af00\">2</span>, <span style=\"color: #00af00; text-decoration-color: #00af00\">512</span>)      │             <span style=\"color: #00af00; text-decoration-color: #00af00\">0</span> │\n",
       "├─────────────────────────────────┼────────────────────────┼───────────────┤\n",
       "│ flatten_1 (<span style=\"color: #0087ff; text-decoration-color: #0087ff\">Flatten</span>)             │ (<span style=\"color: #00d7ff; text-decoration-color: #00d7ff\">None</span>, <span style=\"color: #00af00; text-decoration-color: #00af00\">2048</span>)           │             <span style=\"color: #00af00; text-decoration-color: #00af00\">0</span> │\n",
       "├─────────────────────────────────┼────────────────────────┼───────────────┤\n",
       "│ dense (<span style=\"color: #0087ff; text-decoration-color: #0087ff\">Dense</span>)                   │ (<span style=\"color: #00d7ff; text-decoration-color: #00d7ff\">None</span>, <span style=\"color: #00af00; text-decoration-color: #00af00\">1500</span>)           │     <span style=\"color: #00af00; text-decoration-color: #00af00\">3,073,500</span> │\n",
       "├─────────────────────────────────┼────────────────────────┼───────────────┤\n",
       "│ dropout_2 (<span style=\"color: #0087ff; text-decoration-color: #0087ff\">Dropout</span>)             │ (<span style=\"color: #00d7ff; text-decoration-color: #00d7ff\">None</span>, <span style=\"color: #00af00; text-decoration-color: #00af00\">1500</span>)           │             <span style=\"color: #00af00; text-decoration-color: #00af00\">0</span> │\n",
       "├─────────────────────────────────┼────────────────────────┼───────────────┤\n",
       "│ dense_1 (<span style=\"color: #0087ff; text-decoration-color: #0087ff\">Dense</span>)                 │ (<span style=\"color: #00d7ff; text-decoration-color: #00d7ff\">None</span>, <span style=\"color: #00af00; text-decoration-color: #00af00\">15</span>)             │        <span style=\"color: #00af00; text-decoration-color: #00af00\">22,515</span> │\n",
       "└─────────────────────────────────┴────────────────────────┴───────────────┘\n",
       "</pre>\n"
      ],
      "text/plain": [
       "┏━━━━━━━━━━━━━━━━━━━━━━━━━━━━━━━━━┳━━━━━━━━━━━━━━━━━━━━━━━━┳━━━━━━━━━━━━━━━┓\n",
       "┃\u001b[1m \u001b[0m\u001b[1mLayer (type)                   \u001b[0m\u001b[1m \u001b[0m┃\u001b[1m \u001b[0m\u001b[1mOutput Shape          \u001b[0m\u001b[1m \u001b[0m┃\u001b[1m \u001b[0m\u001b[1m      Param #\u001b[0m\u001b[1m \u001b[0m┃\n",
       "┡━━━━━━━━━━━━━━━━━━━━━━━━━━━━━━━━━╇━━━━━━━━━━━━━━━━━━━━━━━━╇━━━━━━━━━━━━━━━┩\n",
       "│ conv2d_10 (\u001b[38;5;33mConv2D\u001b[0m)              │ (\u001b[38;5;45mNone\u001b[0m, \u001b[38;5;34m128\u001b[0m, \u001b[38;5;34m128\u001b[0m, \u001b[38;5;34m32\u001b[0m)   │           \u001b[38;5;34m896\u001b[0m │\n",
       "├─────────────────────────────────┼────────────────────────┼───────────────┤\n",
       "│ conv2d_11 (\u001b[38;5;33mConv2D\u001b[0m)              │ (\u001b[38;5;45mNone\u001b[0m, \u001b[38;5;34m126\u001b[0m, \u001b[38;5;34m126\u001b[0m, \u001b[38;5;34m32\u001b[0m)   │         \u001b[38;5;34m9,248\u001b[0m │\n",
       "├─────────────────────────────────┼────────────────────────┼───────────────┤\n",
       "│ max_pooling2d_5 (\u001b[38;5;33mMaxPooling2D\u001b[0m)  │ (\u001b[38;5;45mNone\u001b[0m, \u001b[38;5;34m63\u001b[0m, \u001b[38;5;34m63\u001b[0m, \u001b[38;5;34m32\u001b[0m)     │             \u001b[38;5;34m0\u001b[0m │\n",
       "├─────────────────────────────────┼────────────────────────┼───────────────┤\n",
       "│ conv2d_12 (\u001b[38;5;33mConv2D\u001b[0m)              │ (\u001b[38;5;45mNone\u001b[0m, \u001b[38;5;34m63\u001b[0m, \u001b[38;5;34m63\u001b[0m, \u001b[38;5;34m64\u001b[0m)     │        \u001b[38;5;34m18,496\u001b[0m │\n",
       "├─────────────────────────────────┼────────────────────────┼───────────────┤\n",
       "│ conv2d_13 (\u001b[38;5;33mConv2D\u001b[0m)              │ (\u001b[38;5;45mNone\u001b[0m, \u001b[38;5;34m61\u001b[0m, \u001b[38;5;34m61\u001b[0m, \u001b[38;5;34m64\u001b[0m)     │        \u001b[38;5;34m36,928\u001b[0m │\n",
       "├─────────────────────────────────┼────────────────────────┼───────────────┤\n",
       "│ max_pooling2d_6 (\u001b[38;5;33mMaxPooling2D\u001b[0m)  │ (\u001b[38;5;45mNone\u001b[0m, \u001b[38;5;34m30\u001b[0m, \u001b[38;5;34m30\u001b[0m, \u001b[38;5;34m64\u001b[0m)     │             \u001b[38;5;34m0\u001b[0m │\n",
       "├─────────────────────────────────┼────────────────────────┼───────────────┤\n",
       "│ conv2d_14 (\u001b[38;5;33mConv2D\u001b[0m)              │ (\u001b[38;5;45mNone\u001b[0m, \u001b[38;5;34m30\u001b[0m, \u001b[38;5;34m30\u001b[0m, \u001b[38;5;34m128\u001b[0m)    │        \u001b[38;5;34m73,856\u001b[0m │\n",
       "├─────────────────────────────────┼────────────────────────┼───────────────┤\n",
       "│ conv2d_15 (\u001b[38;5;33mConv2D\u001b[0m)              │ (\u001b[38;5;45mNone\u001b[0m, \u001b[38;5;34m28\u001b[0m, \u001b[38;5;34m28\u001b[0m, \u001b[38;5;34m128\u001b[0m)    │       \u001b[38;5;34m147,584\u001b[0m │\n",
       "├─────────────────────────────────┼────────────────────────┼───────────────┤\n",
       "│ max_pooling2d_7 (\u001b[38;5;33mMaxPooling2D\u001b[0m)  │ (\u001b[38;5;45mNone\u001b[0m, \u001b[38;5;34m14\u001b[0m, \u001b[38;5;34m14\u001b[0m, \u001b[38;5;34m128\u001b[0m)    │             \u001b[38;5;34m0\u001b[0m │\n",
       "├─────────────────────────────────┼────────────────────────┼───────────────┤\n",
       "│ conv2d_16 (\u001b[38;5;33mConv2D\u001b[0m)              │ (\u001b[38;5;45mNone\u001b[0m, \u001b[38;5;34m14\u001b[0m, \u001b[38;5;34m14\u001b[0m, \u001b[38;5;34m256\u001b[0m)    │       \u001b[38;5;34m295,168\u001b[0m │\n",
       "├─────────────────────────────────┼────────────────────────┼───────────────┤\n",
       "│ conv2d_17 (\u001b[38;5;33mConv2D\u001b[0m)              │ (\u001b[38;5;45mNone\u001b[0m, \u001b[38;5;34m12\u001b[0m, \u001b[38;5;34m12\u001b[0m, \u001b[38;5;34m256\u001b[0m)    │       \u001b[38;5;34m590,080\u001b[0m │\n",
       "├─────────────────────────────────┼────────────────────────┼───────────────┤\n",
       "│ max_pooling2d_8 (\u001b[38;5;33mMaxPooling2D\u001b[0m)  │ (\u001b[38;5;45mNone\u001b[0m, \u001b[38;5;34m6\u001b[0m, \u001b[38;5;34m6\u001b[0m, \u001b[38;5;34m256\u001b[0m)      │             \u001b[38;5;34m0\u001b[0m │\n",
       "├─────────────────────────────────┼────────────────────────┼───────────────┤\n",
       "│ conv2d_18 (\u001b[38;5;33mConv2D\u001b[0m)              │ (\u001b[38;5;45mNone\u001b[0m, \u001b[38;5;34m6\u001b[0m, \u001b[38;5;34m6\u001b[0m, \u001b[38;5;34m512\u001b[0m)      │     \u001b[38;5;34m1,180,160\u001b[0m │\n",
       "├─────────────────────────────────┼────────────────────────┼───────────────┤\n",
       "│ conv2d_19 (\u001b[38;5;33mConv2D\u001b[0m)              │ (\u001b[38;5;45mNone\u001b[0m, \u001b[38;5;34m4\u001b[0m, \u001b[38;5;34m4\u001b[0m, \u001b[38;5;34m512\u001b[0m)      │     \u001b[38;5;34m2,359,808\u001b[0m │\n",
       "├─────────────────────────────────┼────────────────────────┼───────────────┤\n",
       "│ max_pooling2d_9 (\u001b[38;5;33mMaxPooling2D\u001b[0m)  │ (\u001b[38;5;45mNone\u001b[0m, \u001b[38;5;34m2\u001b[0m, \u001b[38;5;34m2\u001b[0m, \u001b[38;5;34m512\u001b[0m)      │             \u001b[38;5;34m0\u001b[0m │\n",
       "├─────────────────────────────────┼────────────────────────┼───────────────┤\n",
       "│ dropout_1 (\u001b[38;5;33mDropout\u001b[0m)             │ (\u001b[38;5;45mNone\u001b[0m, \u001b[38;5;34m2\u001b[0m, \u001b[38;5;34m2\u001b[0m, \u001b[38;5;34m512\u001b[0m)      │             \u001b[38;5;34m0\u001b[0m │\n",
       "├─────────────────────────────────┼────────────────────────┼───────────────┤\n",
       "│ flatten_1 (\u001b[38;5;33mFlatten\u001b[0m)             │ (\u001b[38;5;45mNone\u001b[0m, \u001b[38;5;34m2048\u001b[0m)           │             \u001b[38;5;34m0\u001b[0m │\n",
       "├─────────────────────────────────┼────────────────────────┼───────────────┤\n",
       "│ dense (\u001b[38;5;33mDense\u001b[0m)                   │ (\u001b[38;5;45mNone\u001b[0m, \u001b[38;5;34m1500\u001b[0m)           │     \u001b[38;5;34m3,073,500\u001b[0m │\n",
       "├─────────────────────────────────┼────────────────────────┼───────────────┤\n",
       "│ dropout_2 (\u001b[38;5;33mDropout\u001b[0m)             │ (\u001b[38;5;45mNone\u001b[0m, \u001b[38;5;34m1500\u001b[0m)           │             \u001b[38;5;34m0\u001b[0m │\n",
       "├─────────────────────────────────┼────────────────────────┼───────────────┤\n",
       "│ dense_1 (\u001b[38;5;33mDense\u001b[0m)                 │ (\u001b[38;5;45mNone\u001b[0m, \u001b[38;5;34m15\u001b[0m)             │        \u001b[38;5;34m22,515\u001b[0m │\n",
       "└─────────────────────────────────┴────────────────────────┴───────────────┘\n"
      ]
     },
     "metadata": {},
     "output_type": "display_data"
    },
    {
     "data": {
      "text/html": [
       "<pre style=\"white-space:pre;overflow-x:auto;line-height:normal;font-family:Menlo,'DejaVu Sans Mono',consolas,'Courier New',monospace\"><span style=\"font-weight: bold\"> Total params: </span><span style=\"color: #00af00; text-decoration-color: #00af00\">7,808,239</span> (29.79 MB)\n",
       "</pre>\n"
      ],
      "text/plain": [
       "\u001b[1m Total params: \u001b[0m\u001b[38;5;34m7,808,239\u001b[0m (29.79 MB)\n"
      ]
     },
     "metadata": {},
     "output_type": "display_data"
    },
    {
     "data": {
      "text/html": [
       "<pre style=\"white-space:pre;overflow-x:auto;line-height:normal;font-family:Menlo,'DejaVu Sans Mono',consolas,'Courier New',monospace\"><span style=\"font-weight: bold\"> Trainable params: </span><span style=\"color: #00af00; text-decoration-color: #00af00\">7,808,239</span> (29.79 MB)\n",
       "</pre>\n"
      ],
      "text/plain": [
       "\u001b[1m Trainable params: \u001b[0m\u001b[38;5;34m7,808,239\u001b[0m (29.79 MB)\n"
      ]
     },
     "metadata": {},
     "output_type": "display_data"
    },
    {
     "data": {
      "text/html": [
       "<pre style=\"white-space:pre;overflow-x:auto;line-height:normal;font-family:Menlo,'DejaVu Sans Mono',consolas,'Courier New',monospace\"><span style=\"font-weight: bold\"> Non-trainable params: </span><span style=\"color: #00af00; text-decoration-color: #00af00\">0</span> (0.00 B)\n",
       "</pre>\n"
      ],
      "text/plain": [
       "\u001b[1m Non-trainable params: \u001b[0m\u001b[38;5;34m0\u001b[0m (0.00 B)\n"
      ]
     },
     "metadata": {},
     "output_type": "display_data"
    }
   ],
   "source": [
    "model.summary()"
   ]
  },
  {
   "cell_type": "code",
   "execution_count": null,
   "id": "42bf0ade-04de-4fa5-89ca-c44807d29ca1",
   "metadata": {},
   "outputs": [
    {
     "name": "stdout",
     "output_type": "stream",
     "text": [
      "Epoch 1/5\n",
      "\u001b[1m  8/864\u001b[0m \u001b[37m━━━━━━━━━━━━━━━━━━━━\u001b[0m \u001b[1m45:06\u001b[0m 3s/step - accuracy: 0.0599 - loss: 2.7681"
     ]
    }
   ],
   "source": [
    "## Underfitting (too few epochs): If you use too few epochs, the model might not be exposed to the training data enough times to learn the underlying relationships effectively. This can lead to underfitting, where the model performs poorly on both training and validation data.\n",
    "## Overfitting (too many epochs): Conversely, with too many epochs, the model might start to memorize the specific patterns in the training data and lose its ability to generalize to unseen data. This phenomenon is called overfitting\n",
    "training_history2 = model.fit(x=training_set,validation_data=validation_set,epochs=5)\n"
   ]
  },
  {
   "cell_type": "code",
   "execution_count": 1,
   "id": "ffaad881-e241-44b4-9846-daa39944272d",
   "metadata": {},
   "outputs": [
    {
     "ename": "NameError",
     "evalue": "name 'cnn' is not defined",
     "output_type": "error",
     "traceback": [
      "\u001b[1;31m---------------------------------------------------------------------------\u001b[0m",
      "\u001b[1;31mNameError\u001b[0m                                 Traceback (most recent call last)",
      "Cell \u001b[1;32mIn[1], line 1\u001b[0m\n\u001b[1;32m----> 1\u001b[0m train_loss, train_acc \u001b[38;5;241m=\u001b[39m cnn\u001b[38;5;241m.\u001b[39mevaluate(training_set)\n\u001b[0;32m      2\u001b[0m \u001b[38;5;28mprint\u001b[39m(\u001b[38;5;124m'\u001b[39m\u001b[38;5;124mTraining accuracy:\u001b[39m\u001b[38;5;124m'\u001b[39m, train_acc)\n",
      "\u001b[1;31mNameError\u001b[0m: name 'cnn' is not defined"
     ]
    }
   ],
   "source": [
    "train_loss, train_acc = cnn.evaluate(training_set)\n",
    "print('Training accuracy:', train_acc)"
   ]
  },
  {
   "cell_type": "code",
   "execution_count": null,
   "id": "79eb9c3e-b5eb-40f1-b962-a8afa9fed2a8",
   "metadata": {},
   "outputs": [],
   "source": [
    "print(train_loss,train_acc)"
   ]
  },
  {
   "cell_type": "code",
   "execution_count": null,
   "id": "3ac09428-dc0c-433a-aa84-d36f31945ae6",
   "metadata": {},
   "outputs": [],
   "source": [
    "val_loss,val_acc = model.evaluate(validation_set)"
   ]
  },
  {
   "cell_type": "code",
   "execution_count": null,
   "id": "276731fd-0fff-4976-a773-b45f9b447417",
   "metadata": {},
   "outputs": [],
   "source": [
    "print(val_loss,train_loss)"
   ]
  },
  {
   "cell_type": "code",
   "execution_count": null,
   "id": "a393a90d-5eb0-4c62-a588-38d36ba1c3e4",
   "metadata": {},
   "outputs": [],
   "source": [
    "##saving the model\n",
    "\n",
    "model.save(\"trained_model.keras\")"
   ]
  },
  {
   "cell_type": "code",
   "execution_count": null,
   "id": "78d19a8c-6e35-4743-bfa6-246016da50ea",
   "metadata": {},
   "outputs": [],
   "source": [
    "## recording history\n",
    "\n",
    "import json\n",
    "with open(\"training_hist.json\",\"w\") as f:\n",
    "    json.dump(training_history.history,f)"
   ]
  },
  {
   "cell_type": "code",
   "execution_count": null,
   "id": "5dc93353-9fb6-41f0-a7f4-35188a4f3696",
   "metadata": {},
   "outputs": [],
   "source": [
    "epochs = [i for i in range(1,6)]\n",
    "plt.plot(epochs,training_history2.history['accuracy'],color ='red', label='Training Accuracy')\n",
    "plt.plot(epochs,training_history2.history['val_accuracy'],color ='blue', label='Validation Accuracy')\n",
    "plt.xlabel(\"no of epochs\")\n",
    "plt.ylabel(\"accuracy result\")\n",
    "plt.legend()\n",
    "plt.show()"
   ]
  },
  {
   "cell_type": "code",
   "execution_count": null,
   "id": "1d29da2a-37cc-41e8-bb26-354c963c7c9b",
   "metadata": {},
   "outputs": [],
   "source": [
    "#some other matrics for model evaluation"
   ]
  },
  {
   "cell_type": "code",
   "execution_count": null,
   "id": "efb0ce8e-5b97-4cc7-94cb-f01897eb605f",
   "metadata": {},
   "outputs": [],
   "source": [
    "class_name = validation_set.class_names\n",
    "class_name"
   ]
  },
  {
   "cell_type": "code",
   "execution_count": null,
   "id": "13ae3b79-6512-40f6-823b-0d51a3ba28fa",
   "metadata": {},
   "outputs": [],
   "source": [
    "test_set = tf.keras.utils.image_dataset_from_directory(\n",
    "    'New Plant Diseases Dataset(Augmented)/New Plant Diseases Dataset(Augmented)/valid',\n",
    "    labels=\"inferred\",\n",
    "    label_mode=\"categorical\",\n",
    "    class_names=None,\n",
    "    color_mode=\"rgb\",\n",
    "    batch_size=32,\n",
    "    image_size=(128, 128),\n",
    "    shuffle=False,\n",
    "    seed=None,\n",
    "    validation_split=None,\n",
    "    subset=None,\n",
    "    interpolation=\"bilinear\",\n",
    "    follow_links=False,\n",
    "    crop_to_aspect_ratio=False,\n",
    "    pad_to_aspect_ratio=False,\n",
    "    verbose=True,\n",
    ")"
   ]
  },
  {
   "cell_type": "code",
   "execution_count": null,
   "id": "e428524c-b2a1-45b3-97a4-a81160bec5e1",
   "metadata": {},
   "outputs": [],
   "source": [
    "y_pred = model.predict(test_set)\n",
    "y_pred,y_pred.shape"
   ]
  },
  {
   "cell_type": "code",
   "execution_count": null,
   "id": "c1a035a3-c121-4fb9-856c-d44b1497354f",
   "metadata": {},
   "outputs": [],
   "source": [
    "predicted_categories= tf.argmax(y_pred,axis=1)\n"
   ]
  },
  {
   "cell_type": "code",
   "execution_count": null,
   "id": "ed0a120e-9e9f-42f0-995e-cfd299d65662",
   "metadata": {},
   "outputs": [],
   "source": [
    "predicted_categories"
   ]
  },
  {
   "cell_type": "code",
   "execution_count": null,
   "id": "29874e18-ed68-4945-9330-291b56a060c5",
   "metadata": {},
   "outputs": [],
   "source": [
    "true_categories = tf.concat([y for x,y in test_set],axis=0)\n",
    "true_categories"
   ]
  },
  {
   "cell_type": "code",
   "execution_count": null,
   "id": "11c98f0c-dd79-4270-bfa1-462070c2733e",
   "metadata": {},
   "outputs": [],
   "source": [
    "y_true = tf.argmax(true_categories,axis=1)\n",
    "y_true"
   ]
  },
  {
   "cell_type": "code",
   "execution_count": null,
   "id": "c76d1d07-508c-4979-b517-a4aec3a8918d",
   "metadata": {},
   "outputs": [],
   "source": [
    "from sklearn.metrics import classification_report,confusion_matrix"
   ]
  },
  {
   "cell_type": "code",
   "execution_count": null,
   "id": "4bca67fd-a43a-4ef1-9157-93eb16ab9d12",
   "metadata": {},
   "outputs": [],
   "source": [
    "print(classification_report(y_true,predicted_categories,target_names=class_name))"
   ]
  },
  {
   "cell_type": "code",
   "execution_count": null,
   "id": "86151f66-73b2-404d-8d9c-92a75337fe21",
   "metadata": {},
   "outputs": [],
   "source": [
    "cn = confusion_matrix(y_true,predicted_categories)\n",
    "cn"
   ]
  },
  {
   "cell_type": "code",
   "execution_count": null,
   "id": "43bd73eb-49b3-4831-bd8d-8e02e371f801",
   "metadata": {},
   "outputs": [],
   "source": [
    "plt.figure(figsize=(40,40))\n",
    "sns.heatmap(cn,annot=True,annot_kws={'size':10})\n",
    "plt.xlabel(\"predicted class\",fontsize=20)\n",
    "plt.ylabel(\"actual class\",fontsize=20)\n",
    "plt.title(\"confusion matrix \",fontsize=25)\n",
    "plt.show()\n"
   ]
  },
  {
   "cell_type": "code",
   "execution_count": null,
   "id": "48d58a01-0d71-4024-9a0d-3923dfe8dde8",
   "metadata": {},
   "outputs": [],
   "source": []
  },
  {
   "cell_type": "code",
   "execution_count": null,
   "id": "7761969f-b38d-43ba-ab37-45d03757b5c6",
   "metadata": {},
   "outputs": [],
   "source": []
  }
 ],
 "metadata": {
  "kernelspec": {
   "display_name": "Python 3 (ipykernel)",
   "language": "python",
   "name": "python3"
  },
  "language_info": {
   "codemirror_mode": {
    "name": "ipython",
    "version": 3
   },
   "file_extension": ".py",
   "mimetype": "text/x-python",
   "name": "python",
   "nbconvert_exporter": "python",
   "pygments_lexer": "ipython3",
   "version": "3.11.7"
  }
 },
 "nbformat": 4,
 "nbformat_minor": 5
}
